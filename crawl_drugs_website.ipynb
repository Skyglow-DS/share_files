{
 "cells": [
  {
   "cell_type": "code",
   "execution_count": 35,
   "metadata": {},
   "outputs": [],
   "source": [
    "import requests\n",
    "import re\n",
    "import time\n",
    "import pandas as pd"
   ]
  },
  {
   "cell_type": "code",
   "execution_count": 36,
   "metadata": {},
   "outputs": [],
   "source": [
    "def get_text(url):\n",
    "    try:\n",
    "        r = requests.get(url)\n",
    "        text = r.text\n",
    "        #Find definition\n",
    "        regex_search = \"\"\"<img src=\"/img/icons/star\\.png\" title=\"Editor\\\\'s Pick\" alt=\"Editor\\\\'s Pick\"></h3><p><b>(?P<drug_desc>[\\w\\W]*) </p></a><ul class=\"\"\"\n",
    "        pattern = re.compile(regex_search)\n",
    " \n",
    "        #Clean html\n",
    "        results = pattern.findall(text)[0]\n",
    "        clean = re.compile('<.*?>')\n",
    "\n",
    "        results_cleaned = re.sub(clean, '', results)\n",
    "    except:\n",
    "        results_cleaned = \"N/A\"\n",
    "\n",
    "    return results_cleaned\n",
    "\n",
    "def create_drug_url(drug_name):\n",
    "    assert isinstance(drug_name, str)\n",
    "    base = 'https://www.drugs.com/search.php?searchterm='\n",
    "    return base + str(drug_name.strip())"
   ]
  },
  {
   "cell_type": "code",
   "execution_count": 38,
   "metadata": {},
   "outputs": [],
   "source": [
    "def run_list(list_of_drugs):\n",
    "    assert isinstance(list_of_drugs, list)\n",
    "\n",
    "    drug_db = pd.DataFrame(columns = ['drug', 'drug_url', 'drug_desc'])\n",
    "    for drug in list_of_drugs:\n",
    "        drug_url = create_drug_url(drug)\n",
    "        drug_desc = get_text(drug_url)\n",
    "        drug_db = drug_db.append({'drug' : drug, 'drug_url' : drug_url, 'drug_desc' : drug_desc}, ignore_index = True)\n",
    "        time.sleep(5)\n",
    "    return drug_db\n"
   ]
  },
  {
   "cell_type": "code",
   "execution_count": null,
   "metadata": {},
   "outputs": [],
   "source": [
    "list_of_drugs_test = ['Entyvio', 'Trintellix', 'Garbage']"
   ]
  },
  {
   "cell_type": "code",
   "execution_count": 39,
   "metadata": {},
   "outputs": [],
   "source": [
    "testing = run_list(list_of_drugs)"
   ]
  },
  {
   "cell_type": "code",
   "execution_count": 40,
   "metadata": {},
   "outputs": [
    {
     "data": {
      "text/html": [
       "<div>\n",
       "<style scoped>\n",
       "    .dataframe tbody tr th:only-of-type {\n",
       "        vertical-align: middle;\n",
       "    }\n",
       "\n",
       "    .dataframe tbody tr th {\n",
       "        vertical-align: top;\n",
       "    }\n",
       "\n",
       "    .dataframe thead th {\n",
       "        text-align: right;\n",
       "    }\n",
       "</style>\n",
       "<table border=\"1\" class=\"dataframe\">\n",
       "  <thead>\n",
       "    <tr style=\"text-align: right;\">\n",
       "      <th></th>\n",
       "      <th>drug</th>\n",
       "      <th>drug_url</th>\n",
       "      <th>drug_desc</th>\n",
       "    </tr>\n",
       "  </thead>\n",
       "  <tbody>\n",
       "    <tr>\n",
       "      <th>0</th>\n",
       "      <td>Entyvio</td>\n",
       "      <td>https://www.drugs.com/search.php?searchterm=Entyvio</td>\n",
       "      <td>Entyvio (vedolizumab) reduces the effects of a substance in the body that can cause inflammation. Entyvio is used in adults with moderate to severe ulcerative colitis (UC), or moderate to severe Crohn's disease. Entyvio treats active disease and may help keep UC or Crohn's symptoms under control long...</td>\n",
       "    </tr>\n",
       "    <tr>\n",
       "      <th>1</th>\n",
       "      <td>Trintellix</td>\n",
       "      <td>https://www.drugs.com/search.php?searchterm=Trintellix</td>\n",
       "      <td>Trintellix (vortioxetine) is a prescription medicine that affects chemicals in the brain that may be unbalanced. Trintellix is an antidepressant that is used to treat major depressive disorder in adults. Trintellix is supplied as an immediate-release tablet in 5mg, 10mg, and 20mg strengths. In May 2016...</td>\n",
       "    </tr>\n",
       "    <tr>\n",
       "      <th>2</th>\n",
       "      <td>Garbage</td>\n",
       "      <td>https://www.drugs.com/search.php?searchterm=Garbage</td>\n",
       "      <td>N/A</td>\n",
       "    </tr>\n",
       "  </tbody>\n",
       "</table>\n",
       "</div>"
      ],
      "text/plain": [
       "         drug                                                drug_url  \\\n",
       "0     Entyvio     https://www.drugs.com/search.php?searchterm=Entyvio   \n",
       "1  Trintellix  https://www.drugs.com/search.php?searchterm=Trintellix   \n",
       "2     Garbage     https://www.drugs.com/search.php?searchterm=Garbage   \n",
       "\n",
       "                                                                                                                                                                                                                                                                                                            drug_desc  \n",
       "0    Entyvio (vedolizumab) reduces the effects of a substance in the body that can cause inflammation. Entyvio is used in adults with moderate to severe ulcerative colitis (UC), or moderate to severe Crohn's disease. Entyvio treats active disease and may help keep UC or Crohn's symptoms under control long...  \n",
       "1  Trintellix (vortioxetine) is a prescription medicine that affects chemicals in the brain that may be unbalanced. Trintellix is an antidepressant that is used to treat major depressive disorder in adults. Trintellix is supplied as an immediate-release tablet in 5mg, 10mg, and 20mg strengths. In May 2016...  \n",
       "2                                                                                                                                                                                                                                                                                                                 N/A  "
      ]
     },
     "execution_count": 40,
     "metadata": {},
     "output_type": "execute_result"
    }
   ],
   "source": [
    "testing"
   ]
  },
  {
   "cell_type": "code",
   "execution_count": null,
   "metadata": {},
   "outputs": [],
   "source": [
    "drugs_df = pd.read(\"csv_location\")\n",
    "list_of_drugs = drugs_df['drug_name'].to_list()\n",
    "results = run_list(list_of_drugs)"
   ]
  },
  {
   "cell_type": "code",
   "execution_count": null,
   "metadata": {},
   "outputs": [],
   "source": [
    "results = pd.to_csv(\"save_location\")"
   ]
  },
  {
   "cell_type": "code",
   "execution_count": null,
   "metadata": {},
   "outputs": [],
   "source": []
  }
 ],
 "metadata": {
  "interpreter": {
   "hash": "03c9f0e25b453d68de0176462a319777f34d9ec93ce50a6a2ca62862b0e4cf26"
  },
  "kernelspec": {
   "display_name": "Python 3.8.5 ('base')",
   "language": "python",
   "name": "python3"
  },
  "language_info": {
   "codemirror_mode": {
    "name": "ipython",
    "version": 3
   },
   "file_extension": ".py",
   "mimetype": "text/x-python",
   "name": "python",
   "nbconvert_exporter": "python",
   "pygments_lexer": "ipython3",
   "version": "3.8.5"
  },
  "orig_nbformat": 4
 },
 "nbformat": 4,
 "nbformat_minor": 2
}
